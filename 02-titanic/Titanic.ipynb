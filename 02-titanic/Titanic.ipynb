{
 "cells": [
  {
   "cell_type": "markdown",
   "metadata": {},
   "source": [
    "# 泰坦尼克号生还者预测\n",
    "赛题地址：https://www.kaggle.com/c/titanic\n",
    "\n",
    "## 题目描述\n",
    "The sinking of the RMS Titanic is one of the most infamous shipwrecks in history.  On April 15, 1912, during her maiden voyage, the Titanic sank after colliding with an iceberg, killing 1502 out of 2224 passengers and crew. This sensational tragedy shocked the international community and led to better safety regulations for ships.\n",
    "\n",
    "One of the reasons that the shipwreck led to such loss of life was that there were not enough lifeboats for the passengers and crew. Although there was some element of luck involved in surviving the sinking, some groups of people were more likely to survive than others, such as women, children, and the upper-class.\n",
    "\n",
    "In this challenge, we ask you to complete the analysis of what sorts of people were likely to survive. In particular, we ask you to apply the tools of machine learning to predict which passengers survived the tragedy.\n",
    "\n",
    "## 题目分析\n",
    "这是一个二分类问题。"
   ]
  },
  {
   "cell_type": "markdown",
   "metadata": {},
   "source": [
    "## 加载数据\n",
    "\n",
    "## 查看数据\n",
    "前10条数据，后10条数据，行数列数，空值情况，基本统计信息（info()和describe()）\n",
    "\n",
    "## 分析数据\n",
    "分析选择出可能对结果有影响的特征，一类使用，二类备选，三类抛弃。\n",
    "\n",
    "## 绘图\n",
    "对选择的数据进行绘图，直观感受数据特点，通过图像分析数据。\n",
    "\n",
    "## 数据清洗\n",
    "去掉无用特征，空值处理\n",
    "\n",
    "## 特征处理\n",
    "特征主要有数值型、类别型、时间型、文本型、统计型和组合型。本例中主要有数值型和类别性，数值型的处理方式为离散化，类别性的处理方式为one-hot编码。\n",
    "\n",
    "## 选择模型\n",
    "根据问题性质，选择合适的模型，本例中选择逻辑回归模型。\n",
    "\n",
    "## 训练模型\n",
    "\n",
    "## 测试模型\n",
    "\n",
    "## 模型状态\n",
    "绘制学习曲线，判断是否欠拟合和过拟合\n",
    "\n",
    "## 优化\n",
    "调整参数。\n",
    "\n",
    "## 导出预测结果数据"
   ]
  }
 ],
 "metadata": {
  "kernelspec": {
   "display_name": "Python 3",
   "language": "python",
   "name": "python3"
  },
  "language_info": {
   "codemirror_mode": {
    "name": "ipython",
    "version": 3
   },
   "file_extension": ".py",
   "mimetype": "text/x-python",
   "name": "python",
   "nbconvert_exporter": "python",
   "pygments_lexer": "ipython3",
   "version": "3.6.1"
  }
 },
 "nbformat": 4,
 "nbformat_minor": 2
}
